{
 "cells": [
  {
   "cell_type": "markdown",
   "metadata": {},
   "source": [
    "# Evaluate Delay Periods"
   ]
  },
  {
   "cell_type": "markdown",
   "metadata": {},
   "source": [
    "Here, want to evaluate what delay thresholds to allow between defined meteorological states and disaster reports. Procedure is toe evaluate the definitions for a range of delays and optimize the POD. "
   ]
  },
  {
   "cell_type": "markdown",
   "metadata": {},
   "source": [
    "## Set up"
   ]
  },
  {
   "cell_type": "code",
   "execution_count": 1,
   "metadata": {
    "collapsed": true
   },
   "outputs": [],
   "source": [
    "#--- Libraries \n",
    "import matplotlib.pyplot as plt\n",
    "import seaborn as sns\n",
    "import pandas as pd\n",
    "import numpy  as np\n",
    "\n",
    "from pandas.tseries.offsets import *\n",
    "from scipy.stats import beta"
   ]
  },
  {
   "cell_type": "code",
   "execution_count": 2,
   "metadata": {
    "collapsed": false
   },
   "outputs": [],
   "source": [
    "# place graphics in the notebook document\n",
    "%matplotlib inline\n",
    "\n",
    "# use 'casual' graphic style\n",
    "_ = plt.xkcd()\n",
    "\n",
    "# set more style defaults\n",
    "sns.set_palette('deep')"
   ]
  },
  {
   "cell_type": "code",
   "execution_count": 3,
   "metadata": {
    "collapsed": false
   },
   "outputs": [],
   "source": [
    "#--- Load data\n",
    "# read file of observed meteorological events\n",
    "warnings = pd.read_pickle('../data/event_sequences.pkl')\n",
    "# read file of reported heatwaves\n",
    "disrec = pd.read_csv('../data/Heatwaves_database.csv')\n",
    "# repair region name with space before name\n",
    "disrec.loc[disrec.Region==' Tamil Nadu','Region'] = 'Tamil Nadu'"
   ]
  },
  {
   "cell_type": "code",
   "execution_count": 4,
   "metadata": {
    "collapsed": true
   },
   "outputs": [],
   "source": [
    "#--- Define functions for evaluating distributions \n",
    "\n",
    "# ==============================================================\n",
    "# Function to calculate the mode of the beta distribution\n",
    "def mode(z) :\n",
    "    if (z[0]>1) & (z[1]>1) :\n",
    "        return (z[0]-1)/(z[0]+z[1]-2)\n",
    "    elif (z[0]>1) & (z[1] < 1) :\n",
    "        return 1.0\n",
    "    else :\n",
    "        return 0.0\n",
    "# ==============================================================\n",
    "\n",
    "# ==============================================================\n",
    "# Functions to calculate the 95%interval of the beta distribution\n",
    "def credint_low(z) :\n",
    "    return beta.ppf(0.05, z[0], z[1])\n",
    "\n",
    "def credint_upp(z) :\n",
    "    return beta.ppf(0.95, z[0], z[1])\n",
    "# ==============================================================\n",
    "\n"
   ]
  },
  {
   "cell_type": "markdown",
   "metadata": {},
   "source": [
    "## Calculate statistics"
   ]
  },
  {
   "cell_type": "code",
   "execution_count": 5,
   "metadata": {
    "collapsed": false
   },
   "outputs": [
    {
     "name": "stdout",
     "output_type": "stream",
     "text": [
      "---------\n",
      "\n",
      "\n",
      "Orissa\n",
      "---------\n",
      "Fontaine\n",
      "Anderson\n",
      "Peng\n",
      "Tan\n",
      "Hansen\n",
      "Kent_high\n",
      "Kent_low\n",
      "IMD\n",
      "IMD_severe\n",
      "WSDI\n",
      "---------\n",
      "\n",
      "\n",
      "Uttar_Pradesh\n",
      "---------\n",
      "Fontaine\n",
      "Anderson\n",
      "Peng\n",
      "Tan\n",
      "Hansen\n",
      "Kent_high\n",
      "Kent_low\n",
      "IMD\n",
      "IMD_severe\n",
      "WSDI\n",
      "---------\n",
      "\n",
      "\n",
      "Tamil_Nadu\n",
      "---------\n",
      "Fontaine\n",
      "Anderson\n",
      "Peng\n",
      "Tan\n",
      "Hansen\n",
      "Kent_high\n",
      "Kent_low\n",
      "IMD\n",
      "IMD_severe\n",
      "WSDI\n"
     ]
    }
   ],
   "source": [
    "#--- See how DesInvetar reports correspond to time periods marked as dangerous   \n",
    "# list out regions (in '_' instead of ' ' format used in data frame)\n",
    "regions = [\"_\".join(x.title().split()) for x in set(disrec.Region.where(disrec.Country=='India')) \n",
    "           if str(x) != 'nan']\n",
    "# choose max number of days to link to warning\n",
    "max_thrs = 15\n",
    "# loop over regions \n",
    "for region in regions :\n",
    "    print('---------\\n\\n')\n",
    "    print(region)\n",
    "    print('---------')\n",
    "    # list dates of heat disasters reported for the region (need to use name format with spaces)\n",
    "    dis_dates = set(disrec['Date (YMD)'].where(disrec.Region == ' '.join(region.split('_'))))\n",
    "    # remove nans (from regions that aren't in the selected country \n",
    "    dis_dates = [x for x in dis_dates if str(x) != 'nan']\n",
    "    # check for bad dates\n",
    "    bd = list()\n",
    "    for i in range(len(dis_dates)) :\n",
    "        if (dis_dates[i].split(\"/\")[2] == '0') :\n",
    "            bd.extend([i])\n",
    "    # remove bad dates\n",
    "    for i in sorted(bd, reverse=True):\n",
    "        dis_dates.pop(i)\n",
    "    # set as date object\n",
    "    dis_dates = pd.to_datetime(dis_dates,format='%Y/%m/%d')\n",
    "    # loop through definitions \n",
    "    definitions = list(warnings[region].columns)\n",
    "    for deflab in definitions :\n",
    "        print(deflab)\n",
    "        # loop over different impact/reporting delay thresholds\n",
    "        for dely_thrs in range(1,max_thrs) :\n",
    "            # start counters \n",
    "            detc = 0 ; falm = 0 ; flag = 0 ; reps = 0\n",
    "            event_dates = []\n",
    "            # loop through reports\n",
    "            for i in range(len(dis_dates)) :\n",
    "                # something bad has been reported\n",
    "                reps += 1\n",
    "                # consider the range of possible dates for 'event'\n",
    "                event_range = pd.date_range(end=dis_dates[i],freq='D',periods=dely_thrs)\n",
    "                # keep track of all possible dates\n",
    "                event_dates.extend(event_range)\n",
    "                # was it expected?\n",
    "                if ( max(warnings[region][deflab][event_range]) == 1 ) :\n",
    "                    detc += 1\n",
    "            # loop through days that had a warning\n",
    "            warnings[region]['date'] = warnings[region].index\n",
    "            for d in warnings[region]['date'][~(warnings[region]['date'].where(warnings[region][deflab] == 1)).isnull()] :\n",
    "                # a day got flagged with a warning\n",
    "                flag += 1 \n",
    "                # is there any reason to believe something happened then? \n",
    "                if ( d not in event_dates ) :\n",
    "                    falm += 1 \n",
    "            # use Jefferys conjugate prior to estimate signficance of stats\n",
    "            # POD\n",
    "            alpha_pod = 0.5 + detc\n",
    "            beta_pod  = 0.5 + reps - detc\n",
    "            # FAR\n",
    "            alpha_far = 0.5 + falm\n",
    "            beta_far  = 0.5 + flag - falm\n",
    "            # create dictionary, if doesn't already exist\n",
    "            if not ('post_stats' in globals()) :\n",
    "                post_stats = {deflab: pd.DataFrame({'pod':[[alpha_pod,beta_pod]], 'far':[[alpha_far,beta_far]]})}\n",
    "            # if this definition has no entry, then create one\n",
    "            elif deflab not in post_stats : \n",
    "                post_stats[deflab] =  pd.DataFrame({'pod':[[alpha_pod,beta_pod]], \n",
    "                                                    'far':[[alpha_far,beta_far]]})\n",
    "            # if this definition already has an entry, then append to it\n",
    "            elif deflab in post_stats : \n",
    "                post_stats[deflab] = post_stats[deflab].append({'pod':[alpha_pod,beta_pod],\n",
    "                                                                'far':[alpha_far,beta_far]},ignore_index=True)\n",
    "            # remove seperate date column from table\n",
    "            warnings[region].drop('date',1,inplace=True)\n",
    "    # create (if doesn't already exist) dictionary to hold data for each region\n",
    "    if not ('posterior_prms' in globals()) :\n",
    "        posterior_prms = {region : post_stats}\n",
    "        del(post_stats)\n",
    "    else :\n",
    "        posterior_prms[region] = post_stats\n",
    "        del(post_stats)\n",
    "\n",
    "# \n",
    "pd.to_pickle(posterior_prms, '../data/post_prms.pkl')"
   ]
  },
  {
   "cell_type": "markdown",
   "metadata": {},
   "source": [
    "If the statistics have already been calculated can just load saved data file rather than rerunning the code block above. "
   ]
  },
  {
   "cell_type": "code",
   "execution_count": 6,
   "metadata": {
    "collapsed": false
   },
   "outputs": [],
   "source": [
    "# read dictionary of parameters\n",
    "posterior_prms = pd.read_pickle('../data/post_prms.pkl')\n",
    "# read region names from dictionary headers\n",
    "regions = posterior_prms.keys()\n",
    "# read definition names from meteorological warnings file\n",
    "definitions = list(warnings[regions[0]].columns)"
   ]
  },
  {
   "cell_type": "markdown",
   "metadata": {},
   "source": [
    "## Find optimal threshold"
   ]
  },
  {
   "cell_type": "code",
   "execution_count": 14,
   "metadata": {
    "collapsed": false
   },
   "outputs": [],
   "source": [
    "#--- Create matrix of optimal delay values\n",
    "# set empty matrix\n",
    "opt_delay_thrs = pd.DataFrame(np.zeros([len(regions),len(definitions)]))\n",
    "# set rows as regions\n",
    "opt_delay_thrs.index = regions\n",
    "# set columns as definitions \n",
    "opt_delay_thrs.columns = definitions\n",
    "# cycle through all the regions and definitions\n",
    "for region in regions :\n",
    "    for deflab in definitions :\n",
    "        # find the empericial POD (mode of posterior distribution) \n",
    "        modes = [mode(posterior_prms[region][deflab].pod[i]) for i in np.array(range(max_thrs-2))]\n",
    "        # find the lowest threshold value which optimizes the POD \n",
    "        opt_delay_thrs[deflab][region] = modes.index(max(modes))\n"
   ]
  },
  {
   "cell_type": "code",
   "execution_count": 15,
   "metadata": {
    "collapsed": false
   },
   "outputs": [
    {
     "data": {
      "text/html": [
       "<div>\n",
       "<table border=\"1\" class=\"dataframe\">\n",
       "  <thead>\n",
       "    <tr style=\"text-align: right;\">\n",
       "      <th></th>\n",
       "      <th>Fontaine</th>\n",
       "      <th>Anderson</th>\n",
       "      <th>Peng</th>\n",
       "      <th>Tan</th>\n",
       "      <th>Hansen</th>\n",
       "      <th>Kent_high</th>\n",
       "      <th>Kent_low</th>\n",
       "      <th>IMD</th>\n",
       "      <th>IMD_severe</th>\n",
       "      <th>WSDI</th>\n",
       "    </tr>\n",
       "  </thead>\n",
       "  <tbody>\n",
       "    <tr>\n",
       "      <th>Tamil_Nadu</th>\n",
       "      <td>0</td>\n",
       "      <td>5</td>\n",
       "      <td>3</td>\n",
       "      <td>0</td>\n",
       "      <td>4</td>\n",
       "      <td>5</td>\n",
       "      <td>0</td>\n",
       "      <td>5</td>\n",
       "      <td>9</td>\n",
       "      <td>4</td>\n",
       "    </tr>\n",
       "    <tr>\n",
       "      <th>Orissa</th>\n",
       "      <td>10</td>\n",
       "      <td>12</td>\n",
       "      <td>10</td>\n",
       "      <td>11</td>\n",
       "      <td>11</td>\n",
       "      <td>12</td>\n",
       "      <td>10</td>\n",
       "      <td>11</td>\n",
       "      <td>12</td>\n",
       "      <td>12</td>\n",
       "    </tr>\n",
       "    <tr>\n",
       "      <th>Uttar_Pradesh</th>\n",
       "      <td>0</td>\n",
       "      <td>1</td>\n",
       "      <td>1</td>\n",
       "      <td>0</td>\n",
       "      <td>0</td>\n",
       "      <td>5</td>\n",
       "      <td>0</td>\n",
       "      <td>0</td>\n",
       "      <td>0</td>\n",
       "      <td>11</td>\n",
       "    </tr>\n",
       "  </tbody>\n",
       "</table>\n",
       "</div>"
      ],
      "text/plain": [
       "               Fontaine  Anderson  Peng  Tan  Hansen  Kent_high  Kent_low  \\\n",
       "Tamil_Nadu            0         5     3    0       4          5         0   \n",
       "Orissa               10        12    10   11      11         12        10   \n",
       "Uttar_Pradesh         0         1     1    0       0          5         0   \n",
       "\n",
       "               IMD  IMD_severe  WSDI  \n",
       "Tamil_Nadu       5           9     4  \n",
       "Orissa          11          12    12  \n",
       "Uttar_Pradesh    0           0    11  "
      ]
     },
     "execution_count": 15,
     "metadata": {},
     "output_type": "execute_result"
    }
   ],
   "source": [
    "#--- Show table\n",
    "opt_delay_thrs"
   ]
  },
  {
   "cell_type": "code",
   "execution_count": 17,
   "metadata": {
    "collapsed": false
   },
   "outputs": [
    {
     "data": {
      "image/png": "[encoded data removed]",
      "text/plain": [
       "<matplotlib.figure.Figure at 0x7f7e9183c9d0>"
      ]
     },
     "metadata": {},
     "output_type": "display_data"
    }
   ],
   "source": [
    "#--- Chart values\n",
    "# set background\n",
    "sns.set_style('whitegrid')\n",
    "# adjust font size\n",
    "sns.set_context(\"notebook\", font_scale=1.5)\n",
    "# reset data for plotting\n",
    "df = opt_delay_thrs.copy(deep=True)\n",
    "df['region'] = [ ' '.join(x.split('_')) for x in opt_delay_thrs.index ]\n",
    "df = pd.melt(df,id_vars='region')\n",
    "df['delay threshold'] = df['value'].astype('int')\n",
    "# create plot\n",
    "chart = sns.FacetGrid(df,col='region',size=4)\n",
    "_ = chart.map(sns.countplot,'delay threshold')\n",
    "sns.despine(left=True)\n",
    "# save figure\n",
    "plt.savefig('../figures/delay_threshold_values.png')"
   ]
  }
 ],
 "metadata": {
  "kernelspec": {
   "display_name": "Python 2",
   "language": "python",
   "name": "python2"
  },
  "language_info": {
   "codemirror_mode": {
    "name": "ipython",
    "version": 2
   },
   "file_extension": ".py",
   "mimetype": "text/x-python",
   "name": "python",
   "nbconvert_exporter": "python",
   "pygments_lexer": "ipython2",
   "version": "2.7.11"
  }
 },
 "nbformat": 4,
 "nbformat_minor": 0
}
